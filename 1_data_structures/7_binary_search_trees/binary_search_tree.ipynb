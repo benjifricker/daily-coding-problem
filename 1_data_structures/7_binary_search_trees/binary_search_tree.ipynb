{
 "cells": [
  {
   "cell_type": "markdown",
   "metadata": {},
   "source": [
    "# Binary Search Trees"
   ]
  },
  {
   "cell_type": "code",
   "execution_count": null,
   "metadata": {},
   "outputs": [],
   "source": [
    "class Node:\n",
    "    def __init__(self, value, left=None, right=None):\n",
    "        self.value = value\n",
    "        self.left = left\n",
    "        self.right = right\n",
    "\n",
    "class BST:\n",
    "    def __init__(self):\n",
    "        self.root = None\n",
    "        \n",
    "    def insert(self, x):\n",
    "        if not self.root:\n",
    "            self.root = Node(x)\n",
    "        else:\n",
    "            self._insert(x, self.root)\n",
    "            \n",
    "    def _insert(self, x, root):\n",
    "        if x < root.value:\n",
    "            if not root.left:\n",
    "                root.left = Node(x)\n",
    "            else:\n",
    "                self.insert(x, root.left)\n",
    "        else:\n",
    "            if not root.right:\n",
    "                root.right = Node(x)\n",
    "            else:\n",
    "                self.insert(x, root.right)\n",
    "    \n",
    "    def find(self, x):\n",
    "        if not self.root:\n",
    "            return False\n",
    "        else:\n",
    "            return self._find(x, self.root)\n",
    "        \n",
    "    def _find(self, x, root):\n",
    "        if not root:\n",
    "            return False\n",
    "        elif x == root.value:\n",
    "            return True\n",
    "        elif x < root.value:\n",
    "            self._find(x, root.left)\n",
    "        else:\n",
    "            self._find(x, root.right)"
   ]
  },
  {
   "cell_type": "markdown",
   "metadata": {},
   "source": [
    "### 7.1 Find floor and ceiling"
   ]
  },
  {
   "cell_type": "code",
   "execution_count": null,
   "metadata": {},
   "outputs": [],
   "source": [
    "def get_bounds(root, x, floor=None, ceil=None):\n",
    "    if not root:\n",
    "        return None\n",
    "    \n",
    "    if x == root.value:\n",
    "        return x, x\n",
    "    \n",
    "    elif x < root.value:\n",
    "        floor, ceil = get_bounds(root.left, x, floor, root.value)\n",
    "            \n",
    "    elif x > root.value:\n",
    "        floor, ceil = get_bounds(root.right, x, root.value, ceil)\n",
    "            \n",
    "    return floor, ceil"
   ]
  }
 ],
 "metadata": {
  "kernelspec": {
   "display_name": "Python 3",
   "language": "python",
   "name": "python3"
  },
  "language_info": {
   "codemirror_mode": {
    "name": "ipython",
    "version": 3
   },
   "file_extension": ".py",
   "mimetype": "text/x-python",
   "name": "python",
   "nbconvert_exporter": "python",
   "pygments_lexer": "ipython3",
   "version": "3.6.10"
  }
 },
 "nbformat": 4,
 "nbformat_minor": 4
}
