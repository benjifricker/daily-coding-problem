{
 "cells": [
  {
   "cell_type": "markdown",
   "metadata": {},
   "source": [
    "# Binary Search Trees"
   ]
  },
  {
   "cell_type": "code",
   "execution_count": null,
   "metadata": {},
   "outputs": [],
   "source": [
    "class Node:\n",
    "    def __init__(self, value, left=None, right=None):\n",
    "        self.value = value\n",
    "        self.left = left\n",
    "        self.right = right\n",
    "\n",
    "class BST:\n",
    "    def __init__(self):\n",
    "        self.root = None\n",
    "        \n",
    "    def insert(self, x):\n",
    "        if not self.root:\n",
    "            self.root = Node(x)\n",
    "        else:\n",
    "            self._insert(x, self.root)\n",
    "            \n",
    "    def _insert(self, x, root):\n",
    "        if x < root.value:\n",
    "            if not root.left:\n",
    "                root.left = Node(x)\n",
    "            else:\n",
    "                self.insert(x, root.left)\n",
    "        else:\n",
    "            if not root.right:\n",
    "                root.right = Node(x)\n",
    "            else:\n",
    "                self.insert(x, root.right)\n",
    "    \n",
    "    def find(self, x):\n",
    "        if not self.root:\n",
    "            return False\n",
    "        else:\n",
    "            return self._find(x, self.root)\n",
    "        \n",
    "    def _find(self, x, root):\n",
    "        if not root:\n",
    "            return False\n",
    "        elif x == root.value:\n",
    "            return True\n",
    "        elif x < root.value:\n",
    "            self._find(x, root.left)\n",
    "        else:\n",
    "            self._find(x, root.right)"
   ]
  },
  {
   "cell_type": "markdown",
   "metadata": {},
   "source": [
    "### 7.1 Find floor and ceiling"
   ]
  },
  {
   "cell_type": "code",
   "execution_count": null,
   "metadata": {},
   "outputs": [],
   "source": [
    "def get_bounds(root, x, floor=None, ceil=None):\n",
    "    if not root:\n",
    "        return None\n",
    "    \n",
    "    if x == root.value:\n",
    "        return x, x\n",
    "    \n",
    "    elif x < root.value:\n",
    "        floor, ceil = get_bounds(root.left, x, floor, root.value)\n",
    "            \n",
    "    elif x > root.value:\n",
    "        floor, ceil = get_bounds(root.right, x, root.value, ceil)\n",
    "            \n",
    "    return floor, ceil"
   ]
  },
  {
   "cell_type": "markdown",
   "metadata": {},
   "source": [
    "### 7.2 Convert sorted array to BST"
   ]
  },
  {
   "cell_type": "code",
   "execution_count": null,
   "metadata": {},
   "outputs": [],
   "source": [
    "array = [1, 2, 3, 4, 5]\n",
    "\n",
    "def make_bst(array):\n",
    "    if not array:\n",
    "        return None\n",
    "    \n",
    "    mid = len(array) // 2\n",
    "    \n",
    "    root = Node(array[mid])\n",
    "    root.left = make_bst(array[:mid])\n",
    "    root.right = make_bst(array[mid + 1:])\n",
    "    \n",
    "    return root\n",
    "\n",
    "make_bst(array)"
   ]
  },
  {
   "cell_type": "markdown",
   "metadata": {},
   "source": [
    "### 7.3 Construct BST with n nodes"
   ]
  },
  {
   "cell_type": "code",
   "execution_count": null,
   "metadata": {},
   "outputs": [],
   "source": [
    "class Node:\n",
    "    def __init__(self, value, left=None, right=None):\n",
    "        self.value = value\n",
    "        self.left = left\n",
    "        self.right = right\n",
    "        \n",
    "def make_trees(low, high):\n",
    "    trees = []\n",
    "    \n",
    "    if low > high:\n",
    "        trees.append(None)\n",
    "        return trees\n",
    "    \n",
    "    for i in range(low, high + 1):\n",
    "        left = make_trees(low, i - 1)\n",
    "        right = make_trees(i + 1, high)\n",
    "        \n",
    "        for l in left:\n",
    "            for r in right:\n",
    "                node = Node(i, left=l, right=r)\n",
    "                trees.append(node)\n",
    "                \n",
    "    return trees"
   ]
  },
  {
   "cell_type": "code",
   "execution_count": null,
   "metadata": {},
   "outputs": [],
   "source": [
    "def preorder(root):\n",
    "    result = []\n",
    "    \n",
    "    if root:\n",
    "        result.append(root)\n",
    "        result += preorder(root.left)\n",
    "        result += preorder(root.right)\n",
    "        \n",
    "    return result"
   ]
  },
  {
   "cell_type": "code",
   "execution_count": null,
   "metadata": {},
   "outputs": [],
   "source": [
    "def construct_trees(n):\n",
    "    trees = make_trees(1, n)\n",
    "    for tree in trees:\n",
    "        print(preorder(tree))"
   ]
  }
 ],
 "metadata": {
  "kernelspec": {
   "display_name": "Python 3",
   "language": "python",
   "name": "python3"
  },
  "language_info": {
   "codemirror_mode": {
    "name": "ipython",
    "version": 3
   },
   "file_extension": ".py",
   "mimetype": "text/x-python",
   "name": "python",
   "nbconvert_exporter": "python",
   "pygments_lexer": "ipython3",
   "version": "3.6.10"
  }
 },
 "nbformat": 4,
 "nbformat_minor": 4
}
