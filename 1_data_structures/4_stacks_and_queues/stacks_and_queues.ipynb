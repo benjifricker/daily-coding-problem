{
 "cells": [
  {
   "cell_type": "markdown",
   "metadata": {},
   "source": [
    "# Stacks and Queues"
   ]
  },
  {
   "cell_type": "markdown",
   "metadata": {},
   "source": [
    "### Stack (LIFO)"
   ]
  },
  {
   "cell_type": "code",
   "execution_count": null,
   "metadata": {},
   "outputs": [],
   "source": [
    "class Stack:\n",
    "    def __init__(self):\n",
    "        self.stack = []\n",
    "        \n",
    "    def push(self, x):\n",
    "        # Add an item to the stack\n",
    "        self.stack.append(x)\n",
    "        \n",
    "    def pop(self):\n",
    "        # Remove an return the top element\n",
    "        return self.stack.pop()\n",
    "    \n",
    "    def peek(self):\n",
    "        return self.stack[-1]"
   ]
  },
  {
   "cell_type": "markdown",
   "metadata": {},
   "source": [
    "### Queues (FIFO)"
   ]
  },
  {
   "cell_type": "code",
   "execution_count": null,
   "metadata": {},
   "outputs": [],
   "source": [
    "from collections import deque\n",
    "\n",
    "queue = deque()\n",
    "\n",
    "queue.append(4)\n",
    "queue.append(5)\n",
    "queue.appendleft(6)\n",
    "\n",
    "print(queue) # dequeue([6, 4, 5])\n",
    "\n",
    "queue.popleft() # 6\n",
    "queue.pop() # 5\n",
    "\n",
    "print(queue) # dequeue([4])"
   ]
  },
  {
   "cell_type": "markdown",
   "metadata": {},
   "source": [
    "##### append() and popleft() traditionally called **enqueue** and **dequeue**\n",
    "##### **Stacks**: depth-fist-search\n",
    "##### **Queues**: breadth-fist-search"
   ]
  },
  {
   "cell_type": "markdown",
   "metadata": {},
   "source": [
    "### 4.1 Implement a max stack"
   ]
  },
  {
   "cell_type": "code",
   "execution_count": null,
   "metadata": {},
   "outputs": [],
   "source": [
    "class Stack:\n",
    "    def __init__(self):\n",
    "        self.stack = []\n",
    "        self.maxes = []\n",
    "    \n",
    "    def push(self, val):\n",
    "        self.stack.append(val)\n",
    "        if self.maxes:\n",
    "            self.maxes.append(max(val, self.maxes[-1]))\n",
    "        else:\n",
    "            self.maxes.append(val)\n",
    "            \n",
    "    def pop(self):\n",
    "        if self.maxes:\n",
    "            self.maxes.pop()\n",
    "        return self.stack.pop()\n",
    "            \n",
    "    def max(self):\n",
    "        return self.maxes[-1]"
   ]
  },
  {
   "cell_type": "markdown",
   "metadata": {},
   "source": [
    "### 4.2 Determine whether brackets are balanced"
   ]
  },
  {
   "cell_type": "code",
   "execution_count": null,
   "metadata": {},
   "outputs": [],
   "source": [
    "s = '([])[]({})'\n",
    "\n",
    "def balance(s):\n",
    "    stack = []\n",
    "    for char in s:\n",
    "        if char in ['(', '{', '[']:\n",
    "            stack.append(char)\n",
    "        else:\n",
    "            if not stack:\n",
    "                return False\n",
    "            if (char == ')' and stack[-1] != '(') or \\\n",
    "               (char == ']' and stack[-1] != '[') or \\\n",
    "               (char == '}' and stack[-1] != '{'):\n",
    "                return False\n",
    "            stack.pop()\n",
    "\n",
    "    return len(stack) == 0\n",
    "    \n",
    "balance(s)"
   ]
  },
  {
   "cell_type": "markdown",
   "metadata": {},
   "source": [
    "### 4.3 Compute maximum of k-length subarrays"
   ]
  },
  {
   "cell_type": "code",
   "execution_count": null,
   "metadata": {},
   "outputs": [],
   "source": [
    "from collections import deque\n",
    "\n",
    "array = [10, 5, 2, 7, 8, 1]\n",
    "k = 3\n",
    "\n",
    "def max_of_subarrays(array, k):\n",
    "    q = deque()\n",
    "    for i in range(k):\n",
    "        while q and array[i] >= array[q[-1]]:\n",
    "            q.pop()\n",
    "        q.append(i)\n",
    "        \n",
    "    # Loop invariant: q is a list of indices where their\n",
    "    # corresponding values are in descending order.\n",
    "    for i in range(k, len(array)):\n",
    "        print(array[q[0]])\n",
    "        while q and q[0] <= i - k:\n",
    "            q.popleft()\n",
    "        while q and array[i] >= array[q[-1]]:\n",
    "            q.pop()\n",
    "        q.append(i)\n",
    "    print(array[q[0]])\n",
    "        \n",
    "max_of_subarrays(array, k)"
   ]
  },
  {
   "cell_type": "markdown",
   "metadata": {},
   "source": [
    "### 4.4 Reconstruct array using +/- signs"
   ]
  },
  {
   "cell_type": "code",
   "execution_count": null,
   "metadata": {},
   "outputs": [],
   "source": [
    "array = [None, '+',  '+', '-', '+']\n",
    "\n",
    "def reconstruct_array(array):\n",
    "    answer = []\n",
    "    n = len(array) - 1\n",
    "    stack = []\n",
    "    \n",
    "    for i in range(n):\n",
    "        if array[i + 1] == '-':\n",
    "            stack.append(i)\n",
    "        else:\n",
    "            answer.append(i)\n",
    "            while stack:\n",
    "                answer.append(stack.pop())\n",
    "    \n",
    "    stack.append(n)\n",
    "    while stack:\n",
    "        answer.append(stack.pop())\n",
    "        \n",
    "    return answer\n",
    "\n",
    "reconstruct_array(array)"
   ]
  }
 ],
 "metadata": {
  "kernelspec": {
   "display_name": "Python 3",
   "language": "python",
   "name": "python3"
  },
  "language_info": {
   "codemirror_mode": {
    "name": "ipython",
    "version": 3
   },
   "file_extension": ".py",
   "mimetype": "text/x-python",
   "name": "python",
   "nbconvert_exporter": "python",
   "pygments_lexer": "ipython3",
   "version": "3.6.10"
  }
 },
 "nbformat": 4,
 "nbformat_minor": 4
}
