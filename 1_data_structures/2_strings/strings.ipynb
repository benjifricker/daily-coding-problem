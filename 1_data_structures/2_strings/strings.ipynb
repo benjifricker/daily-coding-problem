{
 "cells": [
  {
   "cell_type": "markdown",
   "metadata": {},
   "source": [
    "# Strings"
   ]
  },
  {
   "cell_type": "markdown",
   "metadata": {},
   "source": [
    "### 2.1 Find anagram indices"
   ]
  },
  {
   "cell_type": "code",
   "execution_count": 21,
   "metadata": {},
   "outputs": [
    {
     "data": {
      "text/plain": [
       "[0, 3, 4]"
      ]
     },
     "execution_count": 21,
     "metadata": {},
     "output_type": "execute_result"
    }
   ],
   "source": [
    "w = 'ab'\n",
    "s = 'abxaba'\n",
    "\n",
    "def anagram(w, s):\n",
    "    w_list = sorted([char for char in w])\n",
    "    indices = []\n",
    "    for i in range(len(s)):\n",
    "        if sorted([char for char in s[i:i + len(w)]]) == w_list:\n",
    "            indices.append(i)\n",
    "    return indices\n",
    "\n",
    "anagram(w, s)"
   ]
  },
  {
   "cell_type": "code",
   "execution_count": 23,
   "metadata": {},
   "outputs": [
    {
     "data": {
      "text/plain": [
       "[0, 3, 4]"
      ]
     },
     "execution_count": 23,
     "metadata": {},
     "output_type": "execute_result"
    }
   ],
   "source": [
    "from collections import Counter\n",
    "\n",
    "w = 'ab'\n",
    "s = 'abxaba'\n",
    "\n",
    "def is_anagram(s1, s2):\n",
    "    return Counter(s1) == Counter(s2)\n",
    "\n",
    "def anagram_indices(word, s):\n",
    "    result = []\n",
    "    for i in range(len(s) - len(word) + 1):\n",
    "        window = s[i:i + len(word)]\n",
    "        if is_anagram(window, word):\n",
    "            result.append(i)\n",
    "    return result\n",
    "\n",
    "anagram_indices(w, s)"
   ]
  },
  {
   "cell_type": "code",
   "execution_count": 67,
   "metadata": {},
   "outputs": [
    {
     "data": {
      "text/plain": [
       "[0, 3, 4]"
      ]
     },
     "execution_count": 67,
     "metadata": {},
     "output_type": "execute_result"
    }
   ],
   "source": [
    "from collections import defaultdict\n",
    "\n",
    "w = 'ab'\n",
    "s = 'abxaba'\n",
    "\n",
    "def del_if_zero(dict, char):\n",
    "    if dict[char] == 0:\n",
    "        del dict[char]\n",
    "\n",
    "def anagram_indices(word, s):\n",
    "    result = []\n",
    "    \n",
    "    freq = defaultdict(int)\n",
    "    \n",
    "    for char in word:\n",
    "        freq[char] += 1\n",
    "        \n",
    "    for char in s[:len(word)]:\n",
    "        freq[char] -= 1\n",
    "        del_if_zero(freq, char)\n",
    "        \n",
    "    if not freq:\n",
    "        result.append(0)\n",
    "\n",
    "    for i in range(len(word), len(s)):\n",
    "        start_char, end_char = s[i - len(word)], s[i]\n",
    "        freq[start_char] += 1\n",
    "        del_if_zero(freq, start_char)\n",
    "        \n",
    "        freq[end_char] -= 1\n",
    "        del_if_zero(freq, end_char)\n",
    "        \n",
    "        if not freq:\n",
    "            beginning_index = i - len(word) + 1\n",
    "            result.append(beginning_index)\n",
    "        \n",
    "    return result\n",
    "        \n",
    "anagram_indices(w, s)"
   ]
  },
  {
   "cell_type": "markdown",
   "metadata": {},
   "source": [
    "### 2.2 Generate palindrome pairs"
   ]
  },
  {
   "cell_type": "code",
   "execution_count": 15,
   "metadata": {},
   "outputs": [
    {
     "data": {
      "text/plain": [
       "[(0, 1), (1, 0), (2, 3)]"
      ]
     },
     "execution_count": 15,
     "metadata": {},
     "output_type": "execute_result"
    }
   ],
   "source": [
    "words = ['code', 'edoc', 'da', 'd']\n",
    "\n",
    "def is_palindrome(word):\n",
    "    return word == word[::-1]\n",
    "\n",
    "def palindrome_pairs(words):\n",
    "    result = []\n",
    "    \n",
    "    for i, word1 in enumerate(words):\n",
    "        for j, word2 in enumerate(words):\n",
    "            if i == j:\n",
    "                continue\n",
    "            if is_palindrome(word1 + word2):\n",
    "                result.append((i, j))\n",
    "    return result\n",
    "            \n",
    "palindrome_pairs(words)"
   ]
  },
  {
   "cell_type": "code",
   "execution_count": 19,
   "metadata": {},
   "outputs": [
    {
     "name": "stdout",
     "output_type": "stream",
     "text": [
      "code\n",
      "ode\n",
      "de\n",
      "e\n",
      "edoc\n",
      "doc\n",
      "oc\n",
      "c\n",
      "da\n",
      "a\n",
      "d\n"
     ]
    },
    {
     "data": {
      "text/plain": [
       "[(1, 0), (0, 1), (2, 3)]"
      ]
     },
     "execution_count": 19,
     "metadata": {},
     "output_type": "execute_result"
    }
   ],
   "source": [
    "words = ['code', 'edoc', 'da', 'd']\n",
    "\n",
    "def is_palindrome(word):\n",
    "    return word == word[::-1]\n",
    "\n",
    "def palindrome_pairs(words):\n",
    "    d = {}\n",
    "    for i, word in enumerate(words):\n",
    "        d[word] = i\n",
    "    \n",
    "    result = []\n",
    "    \n",
    "    for i, word in enumerate(words):\n",
    "        for char_i in range(len(word)):\n",
    "            prefix, suffix = word[:char_i], word[char_i:]\n",
    "            reversed_prefix = prefix[::-1]\n",
    "            reversed_suffix = suffix[::-1]\n",
    "            \n",
    "            if (is_palindrome(suffix) and reversed_prefix in d):\n",
    "                if i != d[reversed_prefix]:\n",
    "                    result.append((i, d[reversed_prefix]))\n",
    "            \n",
    "            if (is_palindrome(prefix) and reversed_suffix in d):\n",
    "                if i != d[reversed_suffix]:\n",
    "                    result.append((d[reversed_suffix], i))\n",
    "    \n",
    "    return result\n",
    "            \n",
    "palindrome_pairs(words)"
   ]
  },
  {
   "cell_type": "markdown",
   "metadata": {},
   "source": [
    "### 2.3 Print zigzag form"
   ]
  },
  {
   "cell_type": "code",
   "execution_count": 22,
   "metadata": {},
   "outputs": [
    {
     "name": "stdout",
     "output_type": "stream",
     "text": [
      "t     a     g\n",
      " h   s z   a \n",
      "  i i   i z  \n",
      "   s     g   \n"
     ]
    }
   ],
   "source": [
    "sentence = 'thisisazigzag'\n",
    "k = 4\n",
    "\n",
    "def get_spaces(row, desc, k):\n",
    "    max_spaces = (k - 1) * 2 - 1\n",
    "    if desc:\n",
    "        spaces = max_spaces - row * 2\n",
    "    else:\n",
    "        spaces = max_spaces - (k - 1 - row) * 2\n",
    "    return spaces\n",
    "\n",
    "def is_descending(index, k):\n",
    "    # Check whether the index is more or less than halfway\n",
    "    # through  its oscillation back to the starting point.\n",
    "    return index % (2 * (k - 1)) < k - 1\n",
    "\n",
    "def zigzag(sentence, k):\n",
    "    n = len(sentence)\n",
    "    \n",
    "    for row in range(k):\n",
    "        i = row\n",
    "        line = [\" \" for _ in range(n)]\n",
    "        \n",
    "        while i < n:\n",
    "            line[i] = sentence[i]\n",
    "            desc = is_descending(i, k)\n",
    "            spaces = get_spaces(row, desc, k)\n",
    "            i += spaces + 1\n",
    "        \n",
    "        print(''.join(line))\n",
    "        \n",
    "zigzag(sentence, k)"
   ]
  }
 ],
 "metadata": {
  "kernelspec": {
   "display_name": "Python 3.7.4 64-bit",
   "language": "python",
   "name": "python37464bit6fc5c9ee3ddc4409a96e8a8d945e3dcc"
  },
  "language_info": {
   "codemirror_mode": {
    "name": "ipython",
    "version": 3
   },
   "file_extension": ".py",
   "mimetype": "text/x-python",
   "name": "python",
   "nbconvert_exporter": "python",
   "pygments_lexer": "ipython3",
   "version": "3.7.4"
  }
 },
 "nbformat": 4,
 "nbformat_minor": 4
}
