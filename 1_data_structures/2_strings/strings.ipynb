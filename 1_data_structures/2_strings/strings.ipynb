{
 "cells": [
  {
   "cell_type": "markdown",
   "metadata": {},
   "source": [
    "# Strings"
   ]
  },
  {
   "cell_type": "markdown",
   "metadata": {},
   "source": [
    "### 2.1 Find anagram indices"
   ]
  },
  {
   "cell_type": "code",
   "execution_count": 21,
   "metadata": {},
   "outputs": [
    {
     "data": {
      "text/plain": [
       "[0, 3, 4]"
      ]
     },
     "execution_count": 21,
     "metadata": {},
     "output_type": "execute_result"
    }
   ],
   "source": [
    "w = 'ab'\n",
    "s = 'abxaba'\n",
    "\n",
    "def anagram(w, s):\n",
    "    w_list = sorted([char for char in w])\n",
    "    indices = []\n",
    "    for i in range(len(s)):\n",
    "        if sorted([char for char in s[i:i + len(w)]]) == w_list:\n",
    "            indices.append(i)\n",
    "    return indices\n",
    "\n",
    "anagram(w, s)"
   ]
  },
  {
   "cell_type": "code",
   "execution_count": 23,
   "metadata": {},
   "outputs": [
    {
     "data": {
      "text/plain": [
       "[0, 3, 4]"
      ]
     },
     "execution_count": 23,
     "metadata": {},
     "output_type": "execute_result"
    }
   ],
   "source": [
    "from collections import Counter\n",
    "\n",
    "w = 'ab'\n",
    "s = 'abxaba'\n",
    "\n",
    "def is_anagram(s1, s2):\n",
    "    return Counter(s1) == Counter(s2)\n",
    "\n",
    "def anagram_indices(word, s):\n",
    "    result = []\n",
    "    for i in range(len(s) - len(word) + 1):\n",
    "        window = s[i:i + len(word)]\n",
    "        if is_anagram(window, word):\n",
    "            result.append(i)\n",
    "    return result\n",
    "\n",
    "anagram_indices(w, s)"
   ]
  },
  {
   "cell_type": "code",
   "execution_count": 67,
   "metadata": {},
   "outputs": [
    {
     "data": {
      "text/plain": [
       "[0, 3, 4]"
      ]
     },
     "execution_count": 67,
     "metadata": {},
     "output_type": "execute_result"
    }
   ],
   "source": [
    "from collections import defaultdict\n",
    "\n",
    "w = 'ab'\n",
    "s = 'abxaba'\n",
    "\n",
    "def del_if_zero(dict, char):\n",
    "    if dict[char] == 0:\n",
    "        del dict[char]\n",
    "\n",
    "def anagram_indices(word, s):\n",
    "    result = []\n",
    "    \n",
    "    freq = defaultdict(int)\n",
    "    \n",
    "    for char in word:\n",
    "        freq[char] += 1\n",
    "        \n",
    "    for char in s[:len(word)]:\n",
    "        freq[char] -= 1\n",
    "        del_if_zero(freq, char)\n",
    "        \n",
    "    if not freq:\n",
    "        result.append(0)\n",
    "\n",
    "    for i in range(len(word), len(s)):\n",
    "        start_char, end_char = s[i - len(word)], s[i]\n",
    "        freq[start_char] += 1\n",
    "        del_if_zero(freq, start_char)\n",
    "        \n",
    "        freq[end_char] -= 1\n",
    "        del_if_zero(freq, end_char)\n",
    "        \n",
    "        if not freq:\n",
    "            beginning_index = i - len(word) + 1\n",
    "            result.append(beginning_index)\n",
    "        \n",
    "    return result\n",
    "        \n",
    "anagram_indices(w, s)"
   ]
  }
 ],
 "metadata": {
  "kernelspec": {
   "display_name": "Python 3.7.4 64-bit",
   "language": "python",
   "name": "python37464bit6fc5c9ee3ddc4409a96e8a8d945e3dcc"
  },
  "language_info": {
   "codemirror_mode": {
    "name": "ipython",
    "version": 3
   },
   "file_extension": ".py",
   "mimetype": "text/x-python",
   "name": "python",
   "nbconvert_exporter": "python",
   "pygments_lexer": "ipython3",
   "version": "3.7.4"
  }
 },
 "nbformat": 4,
 "nbformat_minor": 4
}
