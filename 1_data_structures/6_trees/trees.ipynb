{
 "cells": [
  {
   "cell_type": "markdown",
   "metadata": {},
   "source": [
    "# Trees"
   ]
  },
  {
   "cell_type": "code",
   "execution_count": null,
   "metadata": {},
   "outputs": [],
   "source": [
    "class Node:\n",
    "    def __init__(self, value, left=None, right=None):\n",
    "        self.value = value\n",
    "        self.left = left\n",
    "        self.right = right"
   ]
  },
  {
   "cell_type": "markdown",
   "metadata": {},
   "source": [
    "### Example Tree"
   ]
  },
  {
   "cell_type": "code",
   "execution_count": null,
   "metadata": {},
   "outputs": [],
   "source": [
    "n1 = Node(0)\n",
    "n2 = Node(1)\n",
    "n3 = Node(0)\n",
    "n4 = Node(1)\n",
    "n5 = Node(1)\n",
    "n6 = Node(1)\n",
    "n7 = Node(0)\n",
    "\n",
    "# Pre-order\n",
    "root = n1\n",
    "n1.left = n2\n",
    "n2.left = n4\n",
    "n2.right = n5\n",
    "n1.right = n3\n",
    "n3.left = n6\n",
    "n3.right = n7"
   ]
  },
  {
   "cell_type": "markdown",
   "metadata": {},
   "source": [
    "### 6.1 Count unival trees"
   ]
  },
  {
   "cell_type": "code",
   "execution_count": null,
   "metadata": {},
   "outputs": [],
   "source": [
    "def is_unival(root):\n",
    "    return unival_helper(root, root.value)\n",
    "\n",
    "def unival_helper(root, value):\n",
    "    if root is None:\n",
    "        return True\n",
    "    \n",
    "    if root.value == value:\n",
    "        return unival_helper(root.left, value) and \\\n",
    "               unival_helper(root.right, value)\n",
    "    \n",
    "    return False\n",
    "\n",
    "def count_unival_subtrees(root):\n",
    "    if root is None:\n",
    "        return 0\n",
    "    \n",
    "    left = count_unival_subtrees(root.left)\n",
    "    right = count_unival_subtrees(root.right)\n",
    "    \n",
    "    return 1 + left + right if is_unival(root) else left + right\n",
    "\n",
    "count_unival_subtrees(root)"
   ]
  },
  {
   "cell_type": "markdown",
   "metadata": {},
   "source": [
    "##### Above runs in O(n<sup>2</sup>) time. Starting from the bottom of the tree results in O(n) time."
   ]
  },
  {
   "cell_type": "code",
   "execution_count": null,
   "metadata": {},
   "outputs": [],
   "source": [
    "def count_unival_subtrees(root):\n",
    "    count, _ = helper(root)\n",
    "    return count\n",
    "\n",
    "# Return the number of unival subtrees and a Boolean for\n",
    "# whether the root is itself a unival subtree.\n",
    "def helper(root):\n",
    "    if root is None:\n",
    "        return 0, True\n",
    "    \n",
    "    left_count, is_left_unival = helper(root.left)\n",
    "    right_count, is_right_unival = helper(root.right)\n",
    "    total_count = left_count + right_count\n",
    "    \n",
    "    if is_left_unival and is_right_unival:\n",
    "        if root.left is not None and root.value != root.left.value:\n",
    "            return total_count, False\n",
    "        if root.right is not None and root.value != root.right.value:\n",
    "            return total_count, False\n",
    "        return total_count + 1, True\n",
    "    return total_count, False\n",
    "\n",
    "count_unival_subtrees(root)"
   ]
  },
  {
   "cell_type": "markdown",
   "metadata": {},
   "source": [
    "### 6.2 Reconstruct tree from pre-order and in-order traversals"
   ]
  },
  {
   "cell_type": "markdown",
   "metadata": {},
   "source": [
    "pre-order = [a, b, d, e, c, f, g]  \n",
    "in-order = [d, b, e, a, f, c, g]"
   ]
  },
  {
   "cell_type": "code",
   "execution_count": null,
   "metadata": {},
   "outputs": [],
   "source": [
    "preorder = [n1, n2, n4, n5, n3, n6, n7]\n",
    "inorder = [n4, n2, n5, n1, n6, n3, n7]\n",
    "\n",
    "def reconstruct(preorder, inorder):\n",
    "    if not preorder and not inorder:\n",
    "        return None\n",
    "    \n",
    "    if len(preorder) == len(inorder) == 1:\n",
    "        return preorder[0]\n",
    "    \n",
    "    # We assume that elements of the input lists are tree nodes.\n",
    "    root = preorder[0]\n",
    "    root_i = inorder.index(root)\n",
    "    root.left = reconstruct(preorder[1:root_i + 1], \n",
    "                            inorder[:root_i])\n",
    "    root.right = reconstruct(preorder[root_i + 1:],\n",
    "                             inorder[root_i + 1:])\n",
    "    \n",
    "    return root\n",
    "\n",
    "reconstruct(preorder, inorder)"
   ]
  },
  {
   "cell_type": "markdown",
   "metadata": {},
   "source": [
    "### 6.3 Evaluate arithmetic tree"
   ]
  },
  {
   "cell_type": "code",
   "execution_count": null,
   "metadata": {},
   "outputs": [],
   "source": [
    "class Node:\n",
    "    def __init__(self, value, left=None, right=None):\n",
    "        self.value = value\n",
    "        self.left = left\n",
    "        self.right = right\n",
    "\n",
    "PLUS = '+'\n",
    "MINUS = '-'\n",
    "TIMES = '*'\n",
    "DIVIDE = '/'\n",
    "\n",
    "n1 = Node(TIMES)\n",
    "n2 = Node(PLUS)\n",
    "n3 = Node(PLUS)\n",
    "n4 = Node(3)\n",
    "n5 = Node(2)\n",
    "n6 = Node(4)\n",
    "n7 = Node(5)\n",
    "\n",
    "# Pre-order\n",
    "root = n1\n",
    "n1.left = n2\n",
    "n2.left = n4\n",
    "n2.right = n5\n",
    "n1.right = n3\n",
    "n3.left = n6\n",
    "n3.right = n7\n",
    "\n",
    "def evaluate(root):\n",
    "    if root.value == PLUS:\n",
    "        return evaluate(root.left) + evaluate(root.right)\n",
    "    elif root.value == MINUS:\n",
    "        return evaluate(root.left) - evaluate(root.right)\n",
    "    elif root.value == TIMES:\n",
    "        return evaluate(root.left) * evaluate(root.right)\n",
    "    elif root.value == DIVIDE:\n",
    "        return evaluate(root.left) / evaluate(root.right)\n",
    "    else:\n",
    "        return root.value\n",
    "\n",
    "evaluate(root)"
   ]
  }
 ],
 "metadata": {
  "kernelspec": {
   "display_name": "Python 3",
   "language": "python",
   "name": "python3"
  },
  "language_info": {
   "codemirror_mode": {
    "name": "ipython",
    "version": 3
   },
   "file_extension": ".py",
   "mimetype": "text/x-python",
   "name": "python",
   "nbconvert_exporter": "python",
   "pygments_lexer": "ipython3",
   "version": "3.6.10"
  }
 },
 "nbformat": 4,
 "nbformat_minor": 4
}
