{
 "cells": [
  {
   "cell_type": "markdown",
   "metadata": {},
   "source": [
    "# Graphs"
   ]
  },
  {
   "cell_type": "markdown",
   "metadata": {},
   "source": [
    "### DFS implementation"
   ]
  },
  {
   "cell_type": "code",
   "execution_count": null,
   "metadata": {},
   "outputs": [],
   "source": [
    "def DFS(graph, start, visited=set()):\n",
    "    visited.add(start)\n",
    "    for neighbor in graph[start]:\n",
    "        if neighbor not in visited:\n",
    "            DFS(graph, neighbor, visited)\n",
    "            \n",
    "    return visited"
   ]
  },
  {
   "cell_type": "markdown",
   "metadata": {},
   "source": [
    "### BFS implementation"
   ]
  },
  {
   "cell_type": "code",
   "execution_count": null,
   "metadata": {},
   "outputs": [],
   "source": [
    "from collections import deque\n",
    "\n",
    "def BFS(graph, start, visited=set()):\n",
    "    queue = deque([start])\n",
    "    \n",
    "    while queue:\n",
    "        vertex = queue.popleft()\n",
    "        visited.add(vertex)\n",
    "        for neighbor in graph[vertex]:\n",
    "            if neighbor not in visited:\n",
    "                queue.append(neighbor)\n",
    "                \n",
    "    return visited"
   ]
  },
  {
   "cell_type": "markdown",
   "metadata": {},
   "source": [
    "### 10.1 Determine if a cycle exists"
   ]
  },
  {
   "cell_type": "code",
   "execution_count": null,
   "metadata": {},
   "outputs": [],
   "source": [
    "def search(graph, vertex, visited, parent):\n",
    "    visited[vertex] = True\n",
    "    \n",
    "    for neighbor in graph[vertex]:\n",
    "        if not visited[neighbor]:\n",
    "            if search(graph, neighbor, visited, vertex):\n",
    "                return True\n",
    "            \n",
    "        elif parent != neighbor:\n",
    "            return True\n",
    "        \n",
    "    return False\n",
    "\n",
    "def has_cycle(graph):\n",
    "    visited = {v: False for v in graph.keys()}\n",
    "    \n",
    "    for vertex in graph.keys():\n",
    "        if not visited[vertex]:\n",
    "            if search(graph, vertex, visited, None):\n",
    "                return True\n",
    "            \n",
    "    return False"
   ]
  },
  {
   "cell_type": "markdown",
   "metadata": {},
   "source": [
    "### 10.2 Remove edges to create even trees"
   ]
  },
  {
   "cell_type": "code",
   "execution_count": null,
   "metadata": {},
   "outputs": [],
   "source": [
    "graph = {\n",
    "    1: [2, 3],\n",
    "    2: [],\n",
    "    3: [4, 5],\n",
    "    4: [6, 7, 8],\n",
    "    5: [],\n",
    "    6: [],\n",
    "    7: [],\n",
    "    8: []\n",
    "}"
   ]
  },
  {
   "cell_type": "code",
   "execution_count": null,
   "metadata": {},
   "outputs": [],
   "source": [
    "from collections import defaultdict\n",
    "\n",
    "def traverse(graph, vertex, result):\n",
    "    descendants = 0\n",
    "    \n",
    "    for neighbor in graph[vertex]:\n",
    "        num_nodes, result = traverse(graph, neighbor, result)\n",
    "        \n",
    "        result[neighbor] += num_nodes - 1\n",
    "        descendants += num_nodes\n",
    "        \n",
    "    return descendants + 1, result\n",
    "\n",
    "def max_edges(graph):\n",
    "    start = list(graph)[0]\n",
    "    vertices = defaultdict(int)\n",
    "    \n",
    "    _, descendants = traverse(graph, start, vertices)\n",
    "    \n",
    "    return len([val for val in descendants.values() if val % 2 == 1])\n",
    "\n",
    "max_edges(graph)"
   ]
  },
  {
   "cell_type": "markdown",
   "metadata": {},
   "source": [
    "### 10.3 Create stepword chain"
   ]
  },
  {
   "cell_type": "code",
   "execution_count": null,
   "metadata": {},
   "outputs": [],
   "source": [
    "start = 'dog'\n",
    "end = 'cat'\n",
    "dictionary = {'dot', 'dop', 'dat', 'cat'}"
   ]
  },
  {
   "cell_type": "code",
   "execution_count": null,
   "metadata": {},
   "outputs": [],
   "source": [
    "from collections import deque\n",
    "from string import ascii_lowercase\n",
    "\n",
    "def word_ladder(start, end, words):\n",
    "    queue = deque([(start, [start])])\n",
    "    \n",
    "    while queue:\n",
    "        word, path = queue.popleft()\n",
    "        if word == end:\n",
    "            return path\n",
    "        \n",
    "        for i in range(len(word)):\n",
    "            for char in ascii_lowercase:\n",
    "                next_word = word[:i] + char + word[i + 1:]\n",
    "                if next_word in words:\n",
    "                    words.remove(next_word)\n",
    "                    queue.append([next_word, path + [next_word]])\n",
    "                \n",
    "    return None\n",
    "\n",
    "word_ladder(start, end, dictionary)"
   ]
  }
 ],
 "metadata": {
  "kernelspec": {
   "display_name": "Python 3",
   "language": "python",
   "name": "python3"
  },
  "language_info": {
   "codemirror_mode": {
    "name": "ipython",
    "version": 3
   },
   "file_extension": ".py",
   "mimetype": "text/x-python",
   "name": "python",
   "nbconvert_exporter": "python",
   "pygments_lexer": "ipython3",
   "version": "3.6.10"
  }
 },
 "nbformat": 4,
 "nbformat_minor": 4
}
