{
 "cells": [
  {
   "cell_type": "markdown",
   "metadata": {},
   "source": [
    "# Graphs"
   ]
  },
  {
   "cell_type": "markdown",
   "metadata": {},
   "source": [
    "### DFS implementation"
   ]
  },
  {
   "cell_type": "code",
   "execution_count": null,
   "metadata": {},
   "outputs": [],
   "source": [
    "def DFS(graph, start, visited=set()):\n",
    "    visited.add(start)\n",
    "    for neighbor in graph[start]:\n",
    "        if neighbor not in visited:\n",
    "            DFS(graph, neighbor, visited)\n",
    "            \n",
    "    return visited"
   ]
  },
  {
   "cell_type": "markdown",
   "metadata": {},
   "source": [
    "### BFS implementation"
   ]
  },
  {
   "cell_type": "code",
   "execution_count": null,
   "metadata": {},
   "outputs": [],
   "source": [
    "from collections import deque\n",
    "\n",
    "def BFS(graph, start, visited=set()):\n",
    "    queue = deque([start])\n",
    "    \n",
    "    while queue:\n",
    "        vertex = queue.popleft()\n",
    "        visited.add(vertex)\n",
    "        for neighbor in graph[vertex]:\n",
    "            if neighbor not in visited:\n",
    "                queue.append(neighbor)\n",
    "                \n",
    "    return visited"
   ]
  },
  {
   "cell_type": "markdown",
   "metadata": {},
   "source": [
    "### 10.1 Determine if a cycle exists"
   ]
  },
  {
   "cell_type": "code",
   "execution_count": null,
   "metadata": {},
   "outputs": [],
   "source": [
    "def search(graph, vertex, visited, parent):\n",
    "    visited[vertex] = True\n",
    "    \n",
    "    for neighbor in graph[vertex]:\n",
    "        if not visited[neighbor]:\n",
    "            if search(graph, neighbor, visited, vertex):\n",
    "                return True\n",
    "            \n",
    "        elif parent != neighbor:\n",
    "            return True\n",
    "        \n",
    "    return False\n",
    "\n",
    "def has_cycle(graph):\n",
    "    visited = {v: False for v in graph.keys()}\n",
    "    \n",
    "    for vertex in graph.keys():\n",
    "        if not visited[vertex]:\n",
    "            if search(graph, vertex, visited, None):\n",
    "                return True\n",
    "            \n",
    "    return False"
   ]
  },
  {
   "cell_type": "markdown",
   "metadata": {},
   "source": [
    "### 10.2 Remove edges to create even trees"
   ]
  },
  {
   "cell_type": "code",
   "execution_count": null,
   "metadata": {},
   "outputs": [],
   "source": [
    "graph = {\n",
    "    1: [2, 3],\n",
    "    2: [],\n",
    "    3: [4, 5],\n",
    "    4: [6, 7, 8],\n",
    "    5: [],\n",
    "    6: [],\n",
    "    7: [],\n",
    "    8: []\n",
    "}"
   ]
  },
  {
   "cell_type": "code",
   "execution_count": null,
   "metadata": {},
   "outputs": [],
   "source": [
    "from collections import defaultdict\n",
    "\n",
    "def traverse(graph, vertex, result):\n",
    "    descendants = 0\n",
    "    \n",
    "    for neighbor in graph[vertex]:\n",
    "        num_nodes, result = traverse(graph, neighbor, result)\n",
    "        \n",
    "        result[neighbor] += num_nodes - 1\n",
    "        descendants += num_nodes\n",
    "        \n",
    "    return descendants + 1, result\n",
    "\n",
    "def max_edges(graph):\n",
    "    start = list(graph)[0]\n",
    "    vertices = defaultdict(int)\n",
    "    \n",
    "    _, descendants = traverse(graph, start, vertices)\n",
    "    \n",
    "    return len([val for val in descendants.values() if val % 2 == 1])\n",
    "\n",
    "max_edges(graph)"
   ]
  },
  {
   "cell_type": "markdown",
   "metadata": {},
   "source": [
    "### 10.3 Create stepword chain"
   ]
  },
  {
   "cell_type": "code",
   "execution_count": null,
   "metadata": {},
   "outputs": [],
   "source": [
    "start = 'dog'\n",
    "end = 'cat'\n",
    "dictionary = {'dot', 'dop', 'dat', 'cat'}"
   ]
  },
  {
   "cell_type": "code",
   "execution_count": null,
   "metadata": {},
   "outputs": [],
   "source": [
    "from collections import deque\n",
    "from string import ascii_lowercase\n",
    "\n",
    "def word_ladder(start, end, words):\n",
    "    queue = deque([(start, [start])])\n",
    "    \n",
    "    while queue:\n",
    "        word, path = queue.popleft()\n",
    "        if word == end:\n",
    "            return path\n",
    "        \n",
    "        for i in range(len(word)):\n",
    "            for char in ascii_lowercase:\n",
    "                next_word = word[:i] + char + word[i + 1:]\n",
    "                if next_word in words:\n",
    "                    words.remove(next_word)\n",
    "                    queue.append([next_word, path + [next_word]])\n",
    "                \n",
    "    return None\n",
    "\n",
    "word_ladder(start, end, dictionary)"
   ]
  },
  {
   "cell_type": "markdown",
   "metadata": {},
   "source": [
    "### 10.4 Beat Snakes and Ladders"
   ]
  },
  {
   "cell_type": "code",
   "execution_count": null,
   "metadata": {},
   "outputs": [],
   "source": [
    "snakes = {17: 13, 52: 29, 57: 40, 62: 22, 88: 18, 95: 51, 97: 79}\n",
    "ladders = {3: 21, 8: 30, 28: 84, 58: 77, 75: 86, 80: 100, 90: 91}"
   ]
  },
  {
   "cell_type": "code",
   "execution_count": null,
   "metadata": {},
   "outputs": [],
   "source": [
    "from collections import deque\n",
    "\n",
    "def minimum_turns(snakes, ladders):\n",
    "    # Create a board with the given snakes and ladders.\n",
    "    board = {square: square for square in range(1, 101)}\n",
    "    for start, end in snakes.items():\n",
    "        board[start] = end\n",
    "    for start, end in ladders.items():\n",
    "        board[start] = end\n",
    "    \n",
    "     # Perform BFS to reach the last square as quickly as possible\n",
    "    start, end = 0, 100\n",
    "    turns = 0\n",
    "    \n",
    "    path = deque([(start, turns)])\n",
    "    visited = set()\n",
    "    \n",
    "    while path:\n",
    "        square, turns = path.popleft()\n",
    "        for move in range(square + 1, square + 7):\n",
    "            if move >= end:\n",
    "                return turns + 1\n",
    "            if move not in visited:\n",
    "                visited.add(move)\n",
    "                path.append((board[move], turns + 1))\n",
    "                \n",
    "minimum_turns(snakes, ladders)"
   ]
  },
  {
   "cell_type": "markdown",
   "metadata": {},
   "source": [
    "### 10.5 Topological sort"
   ]
  },
  {
   "cell_type": "code",
   "execution_count": null,
   "metadata": {},
   "outputs": [],
   "source": [
    "course_to_prereqs = {\n",
    "    'CSC300': ['CSC100', 'CSC200'],\n",
    "    'CSC200': ['CSC100'],\n",
    "    'CSC100': [],\n",
    "}"
   ]
  },
  {
   "cell_type": "code",
   "execution_count": null,
   "metadata": {},
   "outputs": [],
   "source": [
    "from collections import defaultdict, deque\n",
    "\n",
    "def find_order(course_to_prereqs):\n",
    "    # Copy list values into a set for faster removal.\n",
    "    course_to_prereqs = {c: set(p) for c, p in course_to_prereqs.items()}\n",
    "    \n",
    "    # Start off our to-do list with all courses without prerequisites.\n",
    "    todo = deque([c for c, p in course_to_prereqs.items() if not p])\n",
    "    \n",
    "    # Create a new data structure to map prereqs to successor courses.\n",
    "    prereq_to_courses = defaultdict(list)\n",
    "    for course, prereqs in course_to_prereqs.items():\n",
    "        for prereq in prereqs:\n",
    "            prereq_to_courses[prereq].append(course)\n",
    "            \n",
    "    result = []\n",
    "    \n",
    "    while todo:\n",
    "        prereq = todo.popleft()\n",
    "        result.append(prereq)\n",
    "        \n",
    "        # Remove this prereq from all successor courses.\n",
    "        # If any course now does not have any prereqs, add it to todo.\n",
    "        for c in prereq_to_courses[prereq]:\n",
    "            course_to_prereqs[c].remove(prereq)\n",
    "            if not course_to_prereqs[c]:\n",
    "                todo.append(c)\n",
    "                \n",
    "    # Circular dependency\n",
    "    if len(result) < len(course_to_prereqs):\n",
    "        return None\n",
    "    \n",
    "    \n",
    "    return result\n",
    "\n",
    "find_order(course_to_prereqs)"
   ]
  }
 ],
 "metadata": {
  "kernelspec": {
   "display_name": "Python 3",
   "language": "python",
   "name": "python3"
  },
  "language_info": {
   "codemirror_mode": {
    "name": "ipython",
    "version": 3
   },
   "file_extension": ".py",
   "mimetype": "text/x-python",
   "name": "python",
   "nbconvert_exporter": "python",
   "pygments_lexer": "ipython3",
   "version": "3.6.10"
  }
 },
 "nbformat": 4,
 "nbformat_minor": 4
}
