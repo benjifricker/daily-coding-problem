{
 "cells": [
  {
   "cell_type": "markdown",
   "metadata": {},
   "source": [
    "# Arrays"
   ]
  },
  {
   "cell_type": "markdown",
   "metadata": {},
   "source": [
    "### 1.1 Get product of all other elements"
   ]
  },
  {
   "cell_type": "code",
   "execution_count": 13,
   "metadata": {},
   "outputs": [
    {
     "data": {
      "text/plain": [
       "[120, 60, 40, 30, 24]"
      ]
     },
     "execution_count": 13,
     "metadata": {},
     "output_type": "execute_result"
    }
   ],
   "source": [
    "nums = [1, 2, 3, 4, 5]\n",
    "\n",
    "def product(nums):\n",
    "    length = len(nums)\n",
    "    total_product = 1\n",
    "\n",
    "    for i in range(length):\n",
    "        total_product *= nums[i]\n",
    "    \n",
    "    new_nums = []\n",
    "\n",
    "    for i in range(length):\n",
    "        new_nums.append(int(total_product / nums[i]))\n",
    "        \n",
    "    return new_nums\n",
    "\n",
    "product(nums)"
   ]
  },
  {
   "cell_type": "markdown",
   "metadata": {},
   "source": [
    "#### Follow up: What if you can't use division?"
   ]
  },
  {
   "cell_type": "code",
   "execution_count": 22,
   "metadata": {},
   "outputs": [
    {
     "data": {
      "text/plain": [
       "[120, 60, 40, 30, 24]"
      ]
     },
     "execution_count": 22,
     "metadata": {},
     "output_type": "execute_result"
    }
   ],
   "source": [
    "nums = [1, 2, 3, 4, 5]\n",
    "\n",
    "def product(nums):\n",
    "    # Generate prefix products.\n",
    "    prefix_products = []\n",
    "    for num in nums:\n",
    "        if prefix_products:\n",
    "            prefix_products.append(prefix_products[-1] * num)\n",
    "        else:\n",
    "            prefix_products.append(num)\n",
    "\n",
    "    # Generate suffix products.\n",
    "    suffix_products = []\n",
    "    for num in reversed(nums):\n",
    "        if suffix_products:\n",
    "            suffix_products.append(suffix_products[-1] * num)\n",
    "        else:\n",
    "            suffix_products.append(num)\n",
    "    suffix_products = list(reversed(suffix_products))\n",
    "    \n",
    "    # Generate result from the list of prefixes and suffixes\n",
    "    result = []\n",
    "    for i in range(len(nums)):\n",
    "        if i == 0:\n",
    "            result.append(suffix_products[i + 1])\n",
    "        elif i == len(nums) - 1:\n",
    "            result.append(prefix_products[i - 1])\n",
    "        else:\n",
    "            result.append(prefix_products[i - 1] * suffix_products[i + 1])\n",
    "\n",
    "    return result\n",
    "\n",
    "product(nums)"
   ]
  },
  {
   "cell_type": "markdown",
   "metadata": {},
   "source": [
    "### 1.2 Locate smallest window to be sorted"
   ]
  },
  {
   "cell_type": "code",
   "execution_count": 14,
   "metadata": {},
   "outputs": [
    {
     "data": {
      "text/plain": [
       "(1, 3)"
      ]
     },
     "execution_count": 14,
     "metadata": {},
     "output_type": "execute_result"
    }
   ],
   "source": [
    "array = [3, 7, 5, 6, 9]\n",
    "\n",
    "def window(array):\n",
    "    left, right = None, None\n",
    "    s = sorted(array)\n",
    "    for i in range(len(array)):\n",
    "        if array[i] != s[i] and not left:\n",
    "            left = i\n",
    "        elif array[i] != s[i]:\n",
    "            right = i\n",
    "    \n",
    "    return left, right\n",
    "    \n",
    "window(array)"
   ]
  },
  {
   "cell_type": "code",
   "execution_count": 15,
   "metadata": {},
   "outputs": [
    {
     "data": {
      "text/plain": [
       "(1, 3)"
      ]
     },
     "execution_count": 15,
     "metadata": {},
     "output_type": "execute_result"
    }
   ],
   "source": [
    "array = [3, 7, 5, 6, 9]\n",
    "\n",
    "def window(array):\n",
    "    left, right = None, None\n",
    "    n = len(array)\n",
    "    max_seen, min_seen = -float('inf'), float('inf')\n",
    "    \n",
    "    for i in range(n):\n",
    "        max_seen = max(max_seen, array[i])\n",
    "        if array[i] < max_seen:\n",
    "            right = i\n",
    "    \n",
    "    for i in range(n - 1, -1, -1):\n",
    "        min_seen = min(min_seen, array[i])\n",
    "        if array[i] > min_seen:\n",
    "            left = i\n",
    "            \n",
    "    return left, right\n",
    "    \n",
    "window(array)"
   ]
  }
 ],
 "metadata": {
  "kernelspec": {
   "display_name": "Python 3.7.4 64-bit",
   "language": "python",
   "name": "python37464bit6fc5c9ee3ddc4409a96e8a8d945e3dcc"
  },
  "language_info": {
   "codemirror_mode": {
    "name": "ipython",
    "version": 3
   },
   "file_extension": ".py",
   "mimetype": "text/x-python",
   "name": "python",
   "nbconvert_exporter": "python",
   "pygments_lexer": "ipython3",
   "version": "3.7.4"
  }
 },
 "nbformat": 4,
 "nbformat_minor": 4
}
