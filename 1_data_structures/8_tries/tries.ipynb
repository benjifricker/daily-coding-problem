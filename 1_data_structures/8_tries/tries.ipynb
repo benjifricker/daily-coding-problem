{
 "cells": [
  {
   "cell_type": "markdown",
   "metadata": {},
   "source": [
    "# Tries"
   ]
  },
  {
   "cell_type": "code",
   "execution_count": null,
   "metadata": {},
   "outputs": [],
   "source": [
    "class Trie:\n",
    "    def __init__(self):\n",
    "        self._trie = {}\n",
    "    \n",
    "    def insert(self, text):\n",
    "        trie = self._trie\n",
    "        for char in text:\n",
    "            if char not in trie:\n",
    "                trie[char] = {}\n",
    "            trie = trie[char]\n",
    "        trie['#'] = True\n",
    "        \n",
    "    def find(self, prefix):\n",
    "        trie = self._trie\n",
    "        for char in prefix:\n",
    "            if char in trie:\n",
    "                trie = trie[char]\n",
    "            else:\n",
    "                return None\n",
    "        return trie"
   ]
  },
  {
   "cell_type": "markdown",
   "metadata": {},
   "source": [
    "### 8.1 Implement autocomplete system"
   ]
  },
  {
   "cell_type": "markdown",
   "metadata": {},
   "source": [
    "##### Brute force solution O(n)"
   ]
  },
  {
   "cell_type": "code",
   "execution_count": null,
   "metadata": {},
   "outputs": [],
   "source": [
    "s = 'de'\n",
    "WORDS = ['dog', 'deer', 'deal']\n",
    "\n",
    "def autocomplete(s):\n",
    "    results = set()\n",
    "    for word in WORDS:\n",
    "        if word.startswith(s):\n",
    "            results.add(word)\n",
    "    return results\n",
    "\n",
    "autocomplete(s)"
   ]
  },
  {
   "cell_type": "code",
   "execution_count": null,
   "metadata": {},
   "outputs": [],
   "source": [
    "s = 'de'\n",
    "WORDS = ['dog', 'deer', 'deal']\n",
    "\n",
    "class Trie:\n",
    "    def __init__(self):\n",
    "        self._trie = {}\n",
    "    \n",
    "    def insert(self, text):\n",
    "        trie = self._trie\n",
    "        for char in text:\n",
    "            if char not in trie:\n",
    "                trie[char] = {}\n",
    "            trie = trie[char]\n",
    "        trie['#'] = True\n",
    "        \n",
    "    def find(self, prefix):\n",
    "        trie = self._trie\n",
    "        for char in prefix:\n",
    "            if char in trie:\n",
    "                trie = trie[char]\n",
    "            else:\n",
    "                return []\n",
    "        return self._elements(trie)\n",
    "    \n",
    "    def _elements(self, d):\n",
    "        result = []\n",
    "        for c, v in d.items():\n",
    "            if c == '#':\n",
    "                subresult = ['']\n",
    "            else:\n",
    "                subresult = [c + s for s in self._elements(v)]\n",
    "            result.extend(subresult)\n",
    "        return result\n",
    "    \n",
    "trie = Trie()\n",
    "for word in WORDS:\n",
    "    trie.insert(word)\n",
    "    \n",
    "def autocomplete(s):\n",
    "    suffixes = trie.find(s)\n",
    "    return [s + w for w in suffixes]\n",
    "\n",
    "autocomplete(s)"
   ]
  }
 ],
 "metadata": {
  "kernelspec": {
   "display_name": "Python 3",
   "language": "python",
   "name": "python3"
  },
  "language_info": {
   "codemirror_mode": {
    "name": "ipython",
    "version": 3
   },
   "file_extension": ".py",
   "mimetype": "text/x-python",
   "name": "python",
   "nbconvert_exporter": "python",
   "pygments_lexer": "ipython3",
   "version": "3.6.10"
  }
 },
 "nbformat": 4,
 "nbformat_minor": 4
}
