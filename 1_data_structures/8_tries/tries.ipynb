{
 "cells": [
  {
   "cell_type": "markdown",
   "metadata": {},
   "source": [
    "# Tries"
   ]
  },
  {
   "cell_type": "code",
   "execution_count": null,
   "metadata": {},
   "outputs": [],
   "source": [
    "class Trie:\n",
    "    def __init__(self):\n",
    "        self._trie = {}\n",
    "    \n",
    "    def insert(self, text):\n",
    "        trie = self._trie\n",
    "        for char in text:\n",
    "            if char not in trie:\n",
    "                trie[char] = {}\n",
    "            trie = trie[char]\n",
    "        trie['#'] = True\n",
    "        \n",
    "    def find(self, prefix):\n",
    "        trie = self._trie\n",
    "        for char in prefix:\n",
    "            if char in trie:\n",
    "                trie = trie[char]\n",
    "            else:\n",
    "                return None\n",
    "        return trie"
   ]
  },
  {
   "cell_type": "markdown",
   "metadata": {},
   "source": [
    "### 8.1 Implement autocomplete system"
   ]
  },
  {
   "cell_type": "markdown",
   "metadata": {},
   "source": [
    "##### Brute force solution O(n)"
   ]
  },
  {
   "cell_type": "code",
   "execution_count": null,
   "metadata": {},
   "outputs": [],
   "source": [
    "s = 'de'\n",
    "WORDS = ['dog', 'deer', 'deal']\n",
    "\n",
    "def autocomplete(s):\n",
    "    results = set()\n",
    "    for word in WORDS:\n",
    "        if word.startswith(s):\n",
    "            results.add(word)\n",
    "    return results\n",
    "\n",
    "autocomplete(s)"
   ]
  },
  {
   "cell_type": "code",
   "execution_count": null,
   "metadata": {},
   "outputs": [],
   "source": [
    "s = 'de'\n",
    "WORDS = ['dog', 'deer', 'deal']\n",
    "\n",
    "class Trie:\n",
    "    def __init__(self):\n",
    "        self._trie = {}\n",
    "    \n",
    "    def insert(self, text):\n",
    "        trie = self._trie\n",
    "        for char in text:\n",
    "            if char not in trie:\n",
    "                trie[char] = {}\n",
    "            trie = trie[char]\n",
    "        trie['#'] = True\n",
    "        \n",
    "    def find(self, prefix):\n",
    "        trie = self._trie\n",
    "        for char in prefix:\n",
    "            if char in trie:\n",
    "                trie = trie[char]\n",
    "            else:\n",
    "                return []\n",
    "        return self._elements(trie)\n",
    "    \n",
    "    def _elements(self, d):\n",
    "        result = []\n",
    "        for c, v in d.items():\n",
    "            if c == '#':\n",
    "                subresult = ['']\n",
    "            else:\n",
    "                subresult = [c + s for s in self._elements(v)]\n",
    "            result.extend(subresult)\n",
    "        return result\n",
    "    \n",
    "trie = Trie()\n",
    "for word in WORDS:\n",
    "    trie.insert(word)\n",
    "    \n",
    "def autocomplete(s):\n",
    "    suffixes = trie.find(s)\n",
    "    return [s + w for w in suffixes]\n",
    "\n",
    "autocomplete(s)"
   ]
  },
  {
   "cell_type": "markdown",
   "metadata": {},
   "source": [
    "### 8.2 Create PrefixMapSum class"
   ]
  },
  {
   "cell_type": "markdown",
   "metadata": {},
   "source": [
    "##### insertion --> O(1):"
   ]
  },
  {
   "cell_type": "code",
   "execution_count": null,
   "metadata": {},
   "outputs": [],
   "source": [
    "class PrefixMapSum:\n",
    "    def __init__(self):\n",
    "        self.map = {}\n",
    "        \n",
    "    def insert(self, key: str, value: int):\n",
    "        selt.map[key] = value\n",
    "        \n",
    "    def sum(self, prefix):\n",
    "        return sum(value for key, value in self.map.items()\n",
    "                  if key.startswith(prefix))"
   ]
  },
  {
   "cell_type": "markdown",
   "metadata": {},
   "source": [
    "##### sum retrieval --> O(1), insertion --> O(k<sup>2</sup>):"
   ]
  },
  {
   "cell_type": "code",
   "execution_count": null,
   "metadata": {},
   "outputs": [],
   "source": [
    "from collections import defaultdict\n",
    "\n",
    "class PrefixMapSum:\n",
    "    def __init__(self):\n",
    "        self.map = defaultdict(int)\n",
    "        self.words = set()\n",
    "        \n",
    "    def insert(self, key: str, value: int):\n",
    "        # If the key already exists, increment prefix totals\n",
    "        # by the differenece of old and new values.\n",
    "        if key in self.words:\n",
    "            value -= self.map[key]\n",
    "        self.words.add(key)\n",
    "        \n",
    "        for i in range(1, len(key) + 1):\n",
    "            self.map[key[:i]] += value\n",
    "            \n",
    "    def sum(self, prefix):\n",
    "        return self.pam[prefix]"
   ]
  },
  {
   "cell_type": "markdown",
   "metadata": {},
   "source": [
    "##### both methods --> O(k):"
   ]
  },
  {
   "cell_type": "code",
   "execution_count": null,
   "metadata": {},
   "outputs": [],
   "source": [
    "from collections import defaultdict\n",
    "\n",
    "class TrieNode:\n",
    "    def __init__(self):\n",
    "        self.letters = {}\n",
    "        self.total = 0\n",
    "\n",
    "class PrefixMapSum:\n",
    "    def __init__(self):\n",
    "        self._trie = TrieNode()\n",
    "        self.map = {}\n",
    "        \n",
    "    def insert(self, key, value):\n",
    "        # If the key already exists, increment prefix totals by\n",
    "        # the difference of old and new values.\n",
    "        value -= self.map.get(key, 0)\n",
    "        self.map[key] = value\n",
    "        \n",
    "        trie = self._trie\n",
    "        for char in key:\n",
    "            if char not in trie.letters:\n",
    "                trie.letters[char] = TrieNode()\n",
    "            trie = trie.letters[char]\n",
    "            trie.total += value\n",
    "            \n",
    "    def sum(self, prefix):\n",
    "        d = self._trie\n",
    "        for char in prefix:\n",
    "            if char in d.letters:\n",
    "                d = d.letters[char]\n",
    "            else:\n",
    "                return 0\n",
    "        return d.total"
   ]
  }
 ],
 "metadata": {
  "kernelspec": {
   "display_name": "Python 3",
   "language": "python",
   "name": "python3"
  },
  "language_info": {
   "codemirror_mode": {
    "name": "ipython",
    "version": 3
   },
   "file_extension": ".py",
   "mimetype": "text/x-python",
   "name": "python",
   "nbconvert_exporter": "python",
   "pygments_lexer": "ipython3",
   "version": "3.6.10"
  }
 },
 "nbformat": 4,
 "nbformat_minor": 4
}
