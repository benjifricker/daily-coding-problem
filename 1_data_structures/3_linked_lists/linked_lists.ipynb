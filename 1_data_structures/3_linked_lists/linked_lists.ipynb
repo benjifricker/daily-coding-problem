{
 "cells": [
  {
   "cell_type": "markdown",
   "metadata": {},
   "source": [
    "# Linked Lists"
   ]
  },
  {
   "cell_type": "markdown",
   "metadata": {},
   "source": [
    "### Singly Linked List"
   ]
  },
  {
   "cell_type": "code",
   "execution_count": null,
   "metadata": {},
   "outputs": [],
   "source": [
    "class Node:\n",
    "    def __init__(self, data, next=None):\n",
    "        self.data = data\n",
    "        self.next = next"
   ]
  },
  {
   "cell_type": "markdown",
   "metadata": {},
   "source": [
    "### Doubly Linked List"
   ]
  },
  {
   "cell_type": "code",
   "execution_count": null,
   "metadata": {},
   "outputs": [],
   "source": [
    "class Node:\n",
    "    def __init__(self, data, prev=None, next=None):\n",
    "        self.data = data\n",
    "        self.prev = prev\n",
    "        self.next = next"
   ]
  },
  {
   "cell_type": "markdown",
   "metadata": {},
   "source": [
    "### 3.1 Reverse linked list"
   ]
  },
  {
   "cell_type": "code",
   "execution_count": 3,
   "metadata": {},
   "outputs": [],
   "source": [
    "def reverse(node):\n",
    "    # _reverse() reverses and returns both head and tail.\n",
    "    # Conventionally, an underscore denotes an unused variable.\n",
    "    head, _ = _reverse(node)\n",
    "    return head\n",
    "\n",
    "def _reverse(node):\n",
    "    if node == None:\n",
    "        return None, None\n",
    "    \n",
    "    if node.next == None:\n",
    "        return node, node\n",
    "    \n",
    "    # Reverse rest of linked list and move node to after tail.\n",
    "    head, tail = _reverse(node.next)\n",
    "    node.next = None\n",
    "    tail.next = node\n",
    "    return head, node"
   ]
  },
  {
   "cell_type": "code",
   "execution_count": null,
   "metadata": {},
   "outputs": [],
   "source": [
    "def reverse(node):\n",
    "    prev, current = None, node\n",
    "    \n",
    "    while current is not None:\n",
    "        # Make current node point to prev and move both forward one.\n",
    "        tmp = current.next\n",
    "        current.next = prev\n",
    "        prev = current\n",
    "        current = tmp   \n",
    "    return prev"
   ]
  },
  {
   "cell_type": "markdown",
   "metadata": {},
   "source": [
    "### 3.2 Add two linked lists that represent numbers"
   ]
  },
  {
   "cell_type": "code",
   "execution_count": null,
   "metadata": {},
   "outputs": [],
   "source": [
    "def add(node0, node1, carry=0):\n",
    "    if not node0 and not node1 and not carry:\n",
    "        return None\n",
    "    \n",
    "    node0_val = node0.data if node0 else 0\n",
    "    node1_val = node1.data if node1 else 0\n",
    "    total = node0_val + node1_val + carry\n",
    "    \n",
    "    node0_next = node0.next if node0 else None\n",
    "    node1_next = node1.next if node1 else None\n",
    "    carry_next = 1 if total >= 10 else 0\n",
    "    \n",
    "    return Node(total % 10, add(node0_next, node1_next, carry_next))"
   ]
  },
  {
   "cell_type": "markdown",
   "metadata": {},
   "source": [
    "### 3.3 Rearrange a linked list to alternate high-low"
   ]
  },
  {
   "cell_type": "code",
   "execution_count": null,
   "metadata": {},
   "outputs": [],
   "source": [
    "def alternate(ll):\n",
    "    even = True\n",
    "    cur = ll\n",
    "    while cur.next:\n",
    "        if cur.data > cur.next.data and even:\n",
    "            cur.data, cur.next.data = cur.next.data, cur.data\n",
    "        \n",
    "        elif cur.data < cur.next.data and not even:\n",
    "            cur.data, cur.next.data = cur.next.data, cur.data\n",
    "            \n",
    "        even = not even\n",
    "        cur = cur.next\n",
    "        \n",
    "    return ll"
   ]
  },
  {
   "cell_type": "code",
   "execution_count": null,
   "metadata": {},
   "outputs": [],
   "source": [
    "def alternate(ll):\n",
    "    prev = ll\n",
    "    cur = ll.next\n",
    "    \n",
    "    while cur:\n",
    "        if prev.data > cur.data:\n",
    "            prev.data, cur.data = cur.data, prev.data\n",
    "            \n",
    "        if not cur.next:\n",
    "            break\n",
    "            \n",
    "        if cur.next.data > cur.data:\n",
    "            cur.next.data, cur.data = cur.data, cur.next.data\n",
    "            \n",
    "            \n",
    "        prev = cur.next\n",
    "        cur = cur.next.next\n",
    "        \n",
    "    return ll"
   ]
  }
 ],
 "metadata": {
  "kernelspec": {
   "display_name": "Python 3",
   "language": "python",
   "name": "python3"
  },
  "language_info": {
   "codemirror_mode": {
    "name": "ipython",
    "version": 3
   },
   "file_extension": ".py",
   "mimetype": "text/x-python",
   "name": "python",
   "nbconvert_exporter": "python",
   "pygments_lexer": "ipython3",
   "version": "3.6.10"
  }
 },
 "nbformat": 4,
 "nbformat_minor": 4
}
