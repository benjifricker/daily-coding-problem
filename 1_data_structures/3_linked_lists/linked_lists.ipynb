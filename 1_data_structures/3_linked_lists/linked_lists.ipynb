{
 "cells": [
  {
   "cell_type": "markdown",
   "metadata": {},
   "source": [
    "# Linked Lists"
   ]
  },
  {
   "cell_type": "markdown",
   "metadata": {},
   "source": [
    "### Singly Linked List"
   ]
  },
  {
   "cell_type": "raw",
   "metadata": {},
   "source": [
    "class Node:\n",
    "    def __init__(self, data, next=None):\n",
    "        self.data = data\n",
    "        self.next = next"
   ]
  },
  {
   "cell_type": "markdown",
   "metadata": {},
   "source": [
    "### Doubly Linked List"
   ]
  },
  {
   "cell_type": "raw",
   "metadata": {},
   "source": [
    "class Node:\n",
    "    def __init__(self, data, prev=None, next=None):\n",
    "        self.data = data\n",
    "        self.prev = prev\n",
    "        self.next = next"
   ]
  },
  {
   "cell_type": "markdown",
   "metadata": {},
   "source": [
    "### 3.1 Reverse linked list"
   ]
  },
  {
   "cell_type": "code",
   "execution_count": 3,
   "metadata": {},
   "outputs": [],
   "source": [
    "def reverse(node):\n",
    "    # _reverse() reverses and returns both head and tail.\n",
    "    # Conventionally, an underscore denotes an unused variable.\n",
    "    head, _ = _reverse(node)\n",
    "    return head\n",
    "\n",
    "def _reverse(node):\n",
    "    if node == None:\n",
    "        return None, None\n",
    "    \n",
    "    if node.next == None:\n",
    "        return node, node\n",
    "    \n",
    "    # Reverse rest of linked list and move node to after tail.\n",
    "    head, tail = _reverse(node.next)\n",
    "    node.next = None\n",
    "    tail.next = node\n",
    "    return head, node"
   ]
  },
  {
   "cell_type": "code",
   "execution_count": null,
   "metadata": {},
   "outputs": [],
   "source": [
    "def reverse(node):\n",
    "    prev, current = None, node\n",
    "    \n",
    "    while current is not None:\n",
    "        # Make current node point to prev and move both forward one.\n",
    "        tmp = current.next\n",
    "        current.next = prev\n",
    "        prev = current\n",
    "        current = tmp   \n",
    "    return prev"
   ]
  }
 ],
 "metadata": {
  "kernelspec": {
   "display_name": "Python 3",
   "language": "python",
   "name": "python3"
  },
  "language_info": {
   "codemirror_mode": {
    "name": "ipython",
    "version": 3
   },
   "file_extension": ".py",
   "mimetype": "text/x-python",
   "name": "python",
   "nbconvert_exporter": "python",
   "pygments_lexer": "ipython3",
   "version": "3.6.10"
  }
 },
 "nbformat": 4,
 "nbformat_minor": 4
}
