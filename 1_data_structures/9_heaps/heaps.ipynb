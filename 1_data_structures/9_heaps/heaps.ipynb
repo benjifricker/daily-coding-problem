{
 "cells": [
  {
   "cell_type": "markdown",
   "metadata": {},
   "source": [
    "# Heaps"
   ]
  },
  {
   "cell_type": "markdown",
   "metadata": {},
   "source": [
    "### 9.1 Compute the running median"
   ]
  },
  {
   "cell_type": "code",
   "execution_count": null,
   "metadata": {},
   "outputs": [],
   "source": [
    "import heapq\n",
    "\n",
    "array = [2, 1, 5, 7, 2, 0, 5]\n",
    "\n",
    "def get_median(min_heap, max_heap):\n",
    "    if len(min_heap) > len(max_heap):\n",
    "        return min_heap[0]\n",
    "    elif len(min_heap) < len(max_heap):\n",
    "        return -1 * max_heap[0]\n",
    "    else:\n",
    "        return (min_heap[0] + (-1 * max_heap[0])) / 2\n",
    "    \n",
    "def add(num, min_heap, max_heap):\n",
    "    # If empty, then just add it to the min heap.\n",
    "    if len(min_heap) + len(max_heap) < 1:\n",
    "        heapq.heappush(min_heap, num)\n",
    "        return\n",
    "    \n",
    "    median = get_median(min_heap, max_heap)\n",
    "    if num > median:\n",
    "        heapq.heappush(min_heap, num)\n",
    "    else:\n",
    "        heapq.heappush(max_heap, -1 * num)\n",
    "        \n",
    "def rebalance(min_heap, max_heap):\n",
    "    if len(min_heap) > len(max_heap) + 1:\n",
    "        root = heapq.heappop(min_heap)\n",
    "        heapq.heappush(max_heap, -1 * root)\n",
    "    elif len(max_heap) > len(min_heap) + 1:\n",
    "        root = heapq.heappop(max_heap)\n",
    "        heapq.heappush(min_heap, -1 * root)\n",
    "        \n",
    "def print_median(min_heap, max_heap):\n",
    "    print(get_median(min_heap, max_heap))\n",
    "    \n",
    "def running_median(array):\n",
    "    min_heap = []\n",
    "    max_heap = []\n",
    "    for num in array:\n",
    "        add(num, min_heap, max_heap)\n",
    "        rebalance(min_heap, max_heap)\n",
    "        print_median(min_heap, max_heap)\n",
    "        \n",
    "running_median(array)"
   ]
  }
 ],
 "metadata": {
  "kernelspec": {
   "display_name": "Python 3",
   "language": "python",
   "name": "python3"
  },
  "language_info": {
   "codemirror_mode": {
    "name": "ipython",
    "version": 3
   },
   "file_extension": ".py",
   "mimetype": "text/x-python",
   "name": "python",
   "nbconvert_exporter": "python",
   "pygments_lexer": "ipython3",
   "version": "3.6.10"
  }
 },
 "nbformat": 4,
 "nbformat_minor": 4
}
