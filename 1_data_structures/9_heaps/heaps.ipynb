{
 "cells": [
  {
   "cell_type": "markdown",
   "metadata": {},
   "source": [
    "# Heaps"
   ]
  },
  {
   "cell_type": "markdown",
   "metadata": {},
   "source": [
    "### 9.1 Compute the running median"
   ]
  },
  {
   "cell_type": "code",
   "execution_count": null,
   "metadata": {},
   "outputs": [],
   "source": [
    "import heapq\n",
    "\n",
    "array = [2, 1, 5, 7, 2, 0, 5]\n",
    "\n",
    "def get_median(min_heap, max_heap):\n",
    "    if len(min_heap) > len(max_heap):\n",
    "        return min_heap[0]\n",
    "    elif len(min_heap) < len(max_heap):\n",
    "        return -1 * max_heap[0]\n",
    "    else:\n",
    "        return (min_heap[0] + (-1 * max_heap[0])) / 2\n",
    "    \n",
    "def add(num, min_heap, max_heap):\n",
    "    # If empty, then just add it to the min heap.\n",
    "    if len(min_heap) + len(max_heap) < 1:\n",
    "        heapq.heappush(min_heap, num)\n",
    "        return\n",
    "    \n",
    "    median = get_median(min_heap, max_heap)\n",
    "    if num > median:\n",
    "        heapq.heappush(min_heap, num)\n",
    "    else:\n",
    "        heapq.heappush(max_heap, -1 * num)\n",
    "        \n",
    "def rebalance(min_heap, max_heap):\n",
    "    if len(min_heap) > len(max_heap) + 1:\n",
    "        root = heapq.heappop(min_heap)\n",
    "        heapq.heappush(max_heap, -1 * root)\n",
    "    elif len(max_heap) > len(min_heap) + 1:\n",
    "        root = heapq.heappop(max_heap)\n",
    "        heapq.heappush(min_heap, -1 * root)\n",
    "        \n",
    "def print_median(min_heap, max_heap):\n",
    "    print(get_median(min_heap, max_heap))\n",
    "    \n",
    "def running_median(array):\n",
    "    min_heap = []\n",
    "    max_heap = []\n",
    "    for num in array:\n",
    "        add(num, min_heap, max_heap)\n",
    "        rebalance(min_heap, max_heap)\n",
    "        print_median(min_heap, max_heap)\n",
    "        \n",
    "running_median(array)"
   ]
  },
  {
   "cell_type": "markdown",
   "metadata": {},
   "source": [
    "### 9.2 Find most similar websites"
   ]
  },
  {
   "cell_type": "code",
   "execution_count": null,
   "metadata": {},
   "outputs": [],
   "source": [
    "array = [('google.com', 1), ('google.com', 3), ('google.com', 5), \n",
    " ('pets.com', 1), ('pets.com', 2), ('yahoo.com', 6),\n",
    " ('yahoo.com', 2), ('yahoo.com', 3), ('yahoo.com', 4), ('yahoo.com', 5),\n",
    " ('wikipedia.org', 4), ('wikipedia.org', 5), ('wikipedia.org', 6), \n",
    " ('wikipedia.org', 7), ('bing.com', 1), ('bing.com', 3), ('bing.com', 5),\n",
    " ('bing.com', 6)]"
   ]
  },
  {
   "cell_type": "code",
   "execution_count": null,
   "metadata": {},
   "outputs": [],
   "source": [
    "# Jaccard index\n",
    "def compute_similarity(a, b, visitors):\n",
    "    return len(visitors[a] & visitors[b]) / len(visitors[a] | visitors[b])"
   ]
  },
  {
   "cell_type": "code",
   "execution_count": null,
   "metadata": {},
   "outputs": [],
   "source": [
    "import heapq\n",
    "from collections import defaultdict\n",
    "\n",
    "def top_pairs(log, k):\n",
    "    visitors = defaultdict(set)\n",
    "    \n",
    "    for site, user in log:\n",
    "        visitors[site].add(user)\n",
    "        \n",
    "    pairs = []\n",
    "    sites = list(visitors.keys())\n",
    "    \n",
    "    for _ in range(k):\n",
    "        heapq.heappush(pairs, (0, ('', '')))\n",
    "    \n",
    "    for i in range(len(sites) - 1):\n",
    "        for j in range(i + 1, len(sites)):\n",
    "            score = compute_similarity(sites[i], sites[j], visitors)\n",
    "            heapq.heappushpop(pairs, (score, (sites[i], sites[j])))\n",
    "            \n",
    "    return [pair[1] for pair in pairs]\n",
    "    \n",
    "top_pairs(array, 1)"
   ]
  }
 ],
 "metadata": {
  "kernelspec": {
   "display_name": "Python 3",
   "language": "python",
   "name": "python3"
  },
  "language_info": {
   "codemirror_mode": {
    "name": "ipython",
    "version": 3
   },
   "file_extension": ".py",
   "mimetype": "text/x-python",
   "name": "python",
   "nbconvert_exporter": "python",
   "pygments_lexer": "ipython3",
   "version": "3.6.10"
  }
 },
 "nbformat": 4,
 "nbformat_minor": 4
}
